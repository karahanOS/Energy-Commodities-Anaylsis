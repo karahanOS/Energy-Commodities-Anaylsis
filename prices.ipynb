{
 "cells": [
  {
   "cell_type": "code",
   "execution_count": 1,
   "id": "e91bdf44",
   "metadata": {},
   "outputs": [],
   "source": [
    "import yfinance as yf\n",
    "import pandas as pd\n",
    "import datetime as dt"
   ]
  },
  {
   "cell_type": "code",
   "execution_count": 2,
   "id": "cb86288e",
   "metadata": {},
   "outputs": [
    {
     "name": "stderr",
     "output_type": "stream",
     "text": [
      "C:\\Users\\karahan.cetinkaya\\AppData\\Local\\Temp\\ipykernel_9080\\1628888905.py:3: FutureWarning: YF.download() has changed argument auto_adjust default to True\n",
      "  data_oil = yf.download(ticker, start='2025-01-01', end='2025-12-31')\n",
      "[*********************100%***********************]  1 of 1 completed\n",
      "C:\\Users\\karahan.cetinkaya\\AppData\\Local\\Temp\\ipykernel_9080\\1628888905.py:9: FutureWarning: YF.download() has changed argument auto_adjust default to True\n",
      "  data_lng = yf.download(ticker, start='2025-01-01', end= dt.datetime.now().strftime('%Y-%m-%d'))\n",
      "[*********************100%***********************]  1 of 1 completed\n"
     ]
    }
   ],
   "source": [
    "# Fetch historical data for a specific stock (e.g., Crude Oil Futures)\n",
    "ticker = 'CL=F'  # Crude Oil Futures\n",
    "data_oil = yf.download(ticker, start='2025-01-01', end='2025-12-31')\n",
    "data_oil_df = pd.DataFrame(data_oil)\n",
    "data_oil_df.to_excel('crude_oil_2025.xlsx', engine='openpyxl')\n",
    "\n",
    "# Fetch historical data for a specific stock (e.g., liquit natural gas Futures)\n",
    "ticker = 'NG=F'  # Crude Oil Futures\n",
    "data_lng = yf.download(ticker, start='2025-01-01', end= dt.datetime.now().strftime('%Y-%m-%d'))\n",
    "data_lng_df = pd.DataFrame(data_lng)\n",
    "data_lng_df.to_excel('lng_2025.xlsx', engine='openpyxl')"
   ]
  },
  {
   "cell_type": "code",
   "execution_count": 3,
   "id": "3e642d7f",
   "metadata": {},
   "outputs": [
    {
     "name": "stderr",
     "output_type": "stream",
     "text": [
      "C:\\Users\\karahan.cetinkaya\\AppData\\Local\\Temp\\ipykernel_9080\\2688651018.py:3: FutureWarning: YF.download() has changed argument auto_adjust default to True\n",
      "  data_lng = yf.download(ticker, start='2025-01-01', end= dt.datetime.now().strftime('%Y-%m-%d'))\n",
      "[*********************100%***********************]  1 of 1 completed"
     ]
    },
    {
     "name": "stderr",
     "output_type": "stream",
     "text": [
      "\n"
     ]
    }
   ],
   "source": [
    "# Fetch historical data for a specific stock (e.g., liquit natural gas Futures)\n",
    "ticker = 'NG=F'  # Crude Oil Futures\n",
    "data_lng = yf.download(ticker, start='2025-01-01', end= dt.datetime.now().strftime('%Y-%m-%d'))\n",
    "data_lng_df = pd.DataFrame(data_lng)\n",
    "data_lng_df.to_excel('lng_2025.xlsx', engine='openpyxl')"
   ]
  },
  {
   "cell_type": "code",
   "execution_count": 4,
   "id": "958b22ae",
   "metadata": {},
   "outputs": [],
   "source": [
    "def clean_data(df):\n",
    "    df.drop(index=df.index[:2], axis=0, inplace=True)\n",
    "    # Rename column 'Price' to 'Date'\n",
    "    df = df.rename(columns={'Price': 'Date'})\n",
    "    df['Date'] = pd.to_datetime(df['Date']).dt.date\n",
    "    return df\n",
    "\n",
    "# Loaded variable 'df' from URI: c:\\Users\\karahan.cetinkaya\\PowerPlantApp\\lng_2025.xlsx\n",
    "df = pd.read_excel(r'c:\\Users\\karahan.cetinkaya\\PowerPlantApp\\lng_2025.xlsx')\n",
    "df1= pd.read_excel(r'c:\\Users\\karahan.cetinkaya\\PowerPlantApp\\crude_oil_2025.xlsx')\n",
    "df_clean = clean_data(df.copy())\n",
    "df_clean1 = clean_data(df1.copy())\n",
    "df_clean.to_excel(r'.\\data\\lng_2025_price.xlsx', index= False ,engine='openpyxl')\n",
    "df_clean1.to_excel(r'.\\data\\crude_oil_2025_price.xlsx', index= False, engine='openpyxl')"
   ]
  }
 ],
 "metadata": {
  "kernelspec": {
   "display_name": ".venv",
   "language": "python",
   "name": "python3"
  },
  "language_info": {
   "codemirror_mode": {
    "name": "ipython",
    "version": 3
   },
   "file_extension": ".py",
   "mimetype": "text/x-python",
   "name": "python",
   "nbconvert_exporter": "python",
   "pygments_lexer": "ipython3",
   "version": "3.12.10"
  }
 },
 "nbformat": 4,
 "nbformat_minor": 5
}
