{
 "cells": [
  {
   "cell_type": "code",
   "execution_count": 1,
   "id": "4d432925",
   "metadata": {},
   "outputs": [
    {
     "name": "stderr",
     "output_type": "stream",
     "text": [
      "[nltk_data] Downloading package vader_lexicon to\n",
      "[nltk_data]     C:\\Users\\karahan.cetinkaya\\AppData\\Roaming\\nltk_data..\n",
      "[nltk_data]     .\n",
      "[nltk_data]   Package vader_lexicon is already up-to-date!\n"
     ]
    }
   ],
   "source": [
    "from newsapi import NewsApiClient\n",
    "\n",
    "\n",
    "import nltk\n",
    "nltk.download('vader_lexicon')\n",
    "from nltk.sentiment.vader import SentimentIntensityAnalyzer\n",
    "\n",
    "from dotenv import load_dotenv\n",
    "import pandas as pd\n",
    "import os\n",
    "\n",
    "import datetime as dt\n",
    "from dateutil.relativedelta import relativedelta\n",
    "\n",
    "import plotly.express as px\n",
    "import plotly.graph_objects as go\n",
    "\n",
    "# The correct way to import newsapi-python is:\n"
   ]
  },
  {
   "cell_type": "code",
   "execution_count": null,
   "id": "70a9513a",
   "metadata": {},
   "outputs": [],
   "source": [
    "query = 'crude oil'\n",
    "\n",
    "# Step 1: Get today's date as string\n",
    "today_str = dt.datetime.now().strftime('%Y-%m-%d')\n",
    "\n",
    "# Step 2: Convert string to datetime object\n",
    "today_dt = dt.datetime.strptime(today_str, '%Y-%m-%d')\n",
    "\n",
    "# Step 3: Subtract one month\n",
    "previous_day = today_dt - relativedelta(days=30)\n",
    "\n",
    "# Step 4: Convert back to string if needed\n",
    "previous_day_str = previous_day.strftime('%Y-%m-%d')"
   ]
  },
  {
   "cell_type": "code",
   "execution_count": 3,
   "id": "c1afe8b1",
   "metadata": {},
   "outputs": [
    {
     "ename": "NewsAPIException",
     "evalue": "{'status': 'error', 'code': 'parameterInvalid', 'message': 'You are trying to request results too far in the past. Your plan permits you to request articles as far back as 2025-08-23, but you have requested 2025-03-08. You may need to upgrade to a paid plan.'}",
     "output_type": "error",
     "traceback": [
      "\u001b[31m---------------------------------------------------------------------------\u001b[39m",
      "\u001b[31mNewsAPIException\u001b[39m                          Traceback (most recent call last)",
      "\u001b[36mCell\u001b[39m\u001b[36m \u001b[39m\u001b[32mIn[3]\u001b[39m\u001b[32m, line 7\u001b[39m\n\u001b[32m      3\u001b[39m api_key = os.getenv(\u001b[33m'\u001b[39m\u001b[33mAPI_KEY\u001b[39m\u001b[33m'\u001b[39m)\n\u001b[32m      5\u001b[39m newsapi = NewsApiClient(api_key)\n\u001b[32m----> \u001b[39m\u001b[32m7\u001b[39m all_articles = \u001b[43mnewsapi\u001b[49m\u001b[43m.\u001b[49m\u001b[43mget_everything\u001b[49m\u001b[43m(\u001b[49m\u001b[43mq\u001b[49m\u001b[43m=\u001b[49m\u001b[43mquery\u001b[49m\u001b[43m,\u001b[49m\n\u001b[32m      8\u001b[39m \u001b[43m                                       \u001b[49m\u001b[43mfrom_param\u001b[49m\u001b[43m=\u001b[49m\u001b[43mprevious_day_str\u001b[49m\u001b[43m,\u001b[49m\n\u001b[32m      9\u001b[39m \u001b[43m                                       \u001b[49m\u001b[43mto\u001b[49m\u001b[43m=\u001b[49m\u001b[43mtoday_str\u001b[49m\u001b[43m,\u001b[49m\n\u001b[32m     10\u001b[39m \u001b[43m                                       \u001b[49m\u001b[43msources\u001b[49m\u001b[43m=\u001b[49m\u001b[33;43m'\u001b[39;49m\u001b[33;43myfinance,google-news\u001b[39;49m\u001b[33;43m'\u001b[39;49m\u001b[43m,\u001b[49m\n\u001b[32m     11\u001b[39m \u001b[43m                                       \u001b[49m\u001b[43mdomains\u001b[49m\u001b[43m=\u001b[49m\u001b[33;43m'\u001b[39;49m\u001b[33;43mfinance.yahoo.com,news.google.com,yahoo.com\u001b[39;49m\u001b[33;43m'\u001b[39;49m\u001b[43m,\u001b[49m\n\u001b[32m     12\u001b[39m \u001b[43m                                       \u001b[49m\u001b[43mexclude_domains\u001b[49m\u001b[43m=\u001b[49m\u001b[33;43m'\u001b[39;49m\u001b[33;43mnews.google.com\u001b[39;49m\u001b[33;43m'\u001b[39;49m\u001b[43m,\u001b[49m\n\u001b[32m     13\u001b[39m \u001b[43m                                       \u001b[49m\u001b[43mlanguage\u001b[49m\u001b[43m=\u001b[49m\u001b[33;43m'\u001b[39;49m\u001b[33;43men\u001b[39;49m\u001b[33;43m'\u001b[39;49m\u001b[43m,\u001b[49m\n\u001b[32m     14\u001b[39m \u001b[43m                                       \u001b[49m\u001b[43msort_by\u001b[49m\u001b[43m=\u001b[49m\u001b[33;43m'\u001b[39;49m\u001b[33;43mrelevancy\u001b[39;49m\u001b[33;43m'\u001b[39;49m\u001b[43m,\u001b[49m\n\u001b[32m     15\u001b[39m \u001b[43m                                       \u001b[49m\u001b[43mpage_size\u001b[49m\u001b[43m=\u001b[49m\u001b[32;43m100\u001b[39;49m\u001b[43m)\u001b[49m\n\u001b[32m     16\u001b[39m articles = all_articles[\u001b[33m'\u001b[39m\u001b[33marticles\u001b[39m\u001b[33m'\u001b[39m]\n\u001b[32m     17\u001b[39m df = pd.DataFrame(articles)\n",
      "\u001b[36mFile \u001b[39m\u001b[32mc:\\Users\\karahan.cetinkaya\\PowerPlantApp\\.venv\\Lib\\site-packages\\newsapi\\newsapi_client.py:334\u001b[39m, in \u001b[36mNewsApiClient.get_everything\u001b[39m\u001b[34m(self, q, qintitle, sources, domains, exclude_domains, from_param, to, language, sort_by, page, page_size)\u001b[39m\n\u001b[32m    332\u001b[39m \u001b[38;5;66;03m# Check Status of Request\u001b[39;00m\n\u001b[32m    333\u001b[39m \u001b[38;5;28;01mif\u001b[39;00m r.status_code != requests.codes.ok:\n\u001b[32m--> \u001b[39m\u001b[32m334\u001b[39m     \u001b[38;5;28;01mraise\u001b[39;00m NewsAPIException(r.json())\n\u001b[32m    336\u001b[39m \u001b[38;5;28;01mreturn\u001b[39;00m r.json()\n",
      "\u001b[31mNewsAPIException\u001b[39m: {'status': 'error', 'code': 'parameterInvalid', 'message': 'You are trying to request results too far in the past. Your plan permits you to request articles as far back as 2025-08-23, but you have requested 2025-03-08. You may need to upgrade to a paid plan.'}"
     ]
    }
   ],
   "source": [
    "load_dotenv()\n",
    "\n",
    "api_key = os.getenv('API_KEY')\n",
    "\n",
    "newsapi = NewsApiClient(api_key)\n",
    "\n",
    "all_articles = newsapi.get_everything(q=query,\n",
    "                                       from_param=previous_day_str,\n",
    "                                       to=today_str,\n",
    "                                       sources='yfinance,google-news',\n",
    "                                       domains='finance.yahoo.com,news.google.com,yahoo.com',\n",
    "                                       exclude_domains='news.google.com',\n",
    "                                       language='en',\n",
    "                                       sort_by='relevancy',\n",
    "                                       page_size=100)\n",
    "articles = all_articles['articles']\n",
    "df = pd.DataFrame(articles)"
   ]
  },
  {
   "cell_type": "code",
   "execution_count": null,
   "id": "ed96d739",
   "metadata": {},
   "outputs": [
    {
     "name": "stdout",
     "output_type": "stream",
     "text": [
      "                                         source  \\\n",
      "0   {'id': None, 'name': 'Yahoo Entertainment'}   \n",
      "1   {'id': None, 'name': 'Yahoo Entertainment'}   \n",
      "2   {'id': None, 'name': 'Yahoo Entertainment'}   \n",
      "3   {'id': None, 'name': 'Yahoo Entertainment'}   \n",
      "4   {'id': None, 'name': 'Yahoo Entertainment'}   \n",
      "..                                          ...   \n",
      "95  {'id': None, 'name': 'Yahoo Entertainment'}   \n",
      "96  {'id': None, 'name': 'Yahoo Entertainment'}   \n",
      "97  {'id': None, 'name': 'Yahoo Entertainment'}   \n",
      "98  {'id': None, 'name': 'Yahoo Entertainment'}   \n",
      "99  {'id': None, 'name': 'Yahoo Entertainment'}   \n",
      "\n",
      "                              author  \\\n",
      "0                            Reuters   \n",
      "1                      Brijesh Patel   \n",
      "2   Hritam Mukherjee and Nidhi Verma   \n",
      "3                  Nilanjan Banerjee   \n",
      "4                            Reuters   \n",
      "..                               ...   \n",
      "95                      Florence Tan   \n",
      "96                           Reuters   \n",
      "97        RAJESH ROY and HUIZHONG WU   \n",
      "98                       Nidhi Verma   \n",
      "99                           Reuters   \n",
      "\n",
      "                                                title  \\\n",
      "0   Ukraine to curb Indian diesel imports amid Rus...   \n",
      "1   Oil faces uphill struggle as supply glut worri...   \n",
      "2   India will continue to buy Russian oil despite...   \n",
      "3   3 Oil Pipeline Stocks With Strong Potential Fr...   \n",
      "4   Ukraine attacks major Russian refinery with dr...   \n",
      "..                                                ...   \n",
      "95  Oil holds in tight range, rising output offset...   \n",
      "96  Reliance boss Ambani urges Indian businesses t...   \n",
      "97  Modi and Putin meet on summit sidelines as Ind...   \n",
      "98  Indian oil minister denies country is profitee...   \n",
      "99  Goldman Sachs expects Brent to decline to low ...   \n",
      "\n",
      "                                          description  \\\n",
      "0   KYIV (Reuters) -Ukraine will restrict imports ...   \n",
      "1   (Reuters) -Oil prices are unlikely to gain muc...   \n",
      "2   NEW DELHI (Reuters) -India will continue to bu...   \n",
      "3   Midstream players will secure additional cashf...   \n",
      "4   MOSCOW (Reuters) -Ukrainian drones attacked th...   \n",
      "..                                                ...   \n",
      "95  SINGAPORE (Reuters) -Oil prices traded in a ti...   \n",
      "96  NEW DELHI (Reuters) -Mukesh Ambani, the chairm...   \n",
      "97  Indian Prime Minister Narendra Modi and Russia...   \n",
      "98  NEW DELHI (Reuters) -India is not \"profiteerin...   \n",
      "99  \"We expect the oil surplus to widen and averag...   \n",
      "\n",
      "                                                  url  \\\n",
      "0   https://sg.finance.yahoo.com/news/ukraine-curb...   \n",
      "1   https://ca.finance.yahoo.com/news/oil-faces-up...   \n",
      "2   https://sg.finance.yahoo.com/news/india-contin...   \n",
      "3   https://finance.yahoo.com/news/3-oil-pipeline-...   \n",
      "4   https://ca.news.yahoo.com/fire-put-russias-kir...   \n",
      "..                                                ...   \n",
      "95  https://finance.yahoo.com/news/oil-holds-tight...   \n",
      "96  https://sg.finance.yahoo.com/news/reliance-bos...   \n",
      "97  https://www.yahoo.com/news/articles/modi-putin...   \n",
      "98  https://finance.yahoo.com/news/indian-oil-mini...   \n",
      "99  https://finance.yahoo.com/news/goldman-sachs-e...   \n",
      "\n",
      "                                           urlToImage           publishedAt  \\\n",
      "0   https://media.zenfs.com/en/reuters.com/b1ed4b8...  2025-09-15T08:41:45Z   \n",
      "1   https://media.zenfs.com/en/reuters.com/e2d767d...  2025-08-29T11:02:40Z   \n",
      "2   https://media.zenfs.com/en/reuters.com/62f9660...  2025-09-05T12:57:54Z   \n",
      "3   https://media.zenfs.com/en/zacks.com/5102c7cc5...  2025-09-05T14:24:00Z   \n",
      "4   https://s.yimg.com/cv/apiv2/social/images/yaho...  2025-09-14T02:46:17Z   \n",
      "..                                                ...                   ...   \n",
      "95  https://media.zenfs.com/en/reuters-finance.com...  2025-09-01T00:55:41Z   \n",
      "96  https://media.zenfs.com/en/reuters.com/deec25c...  2025-08-29T13:38:18Z   \n",
      "97  https://s.yimg.com/ny/api/res/1.2/W25M702tuvgv...  2025-09-01T08:03:29Z   \n",
      "98  https://media.zenfs.com/en/reuters-finance.com...  2025-09-01T08:25:24Z   \n",
      "99  https://media.zenfs.com/en/reuters-finance.com...  2025-08-27T03:37:24Z   \n",
      "\n",
      "                                              content  \n",
      "0   KYIV (Reuters) -Ukraine will restrict imports ...  \n",
      "1   By Brijesh Patel\\r\\n(Reuters) -Oil prices are ...  \n",
      "2   By Hritam Mukherjee and Nidhi Verma\\r\\nNEW DEL...  \n",
      "3   The crude pricing environment is likely to rem...  \n",
      "4   MOSCOW (Reuters) -Ukrainian drones attacked th...  \n",
      "..                                                ...  \n",
      "95  By Florence Tan\\r\\nSINGAPORE (Reuters) -Oil pr...  \n",
      "96  NEW DELHI (Reuters) -Mukesh Ambani, the chairm...  \n",
      "97  TIANJIN, China (AP) Indian Prime Minister Nare...  \n",
      "98  By Nidhi Verma\\r\\nNEW DELHI (Reuters) -India i...  \n",
      "99  (Reuters) -Goldman Sachs expects the price of ...  \n",
      "\n",
      "[100 rows x 8 columns]\n"
     ]
    }
   ],
   "source": [
    "print(df)"
   ]
  },
  {
   "cell_type": "code",
   "execution_count": null,
   "id": "40a26e3d",
   "metadata": {},
   "outputs": [
    {
     "name": "stdout",
     "output_type": "stream",
     "text": [
      "Index(['source', 'author', 'title', 'description', 'url', 'urlToImage',\n",
      "       'publishedAt', 'content'],\n",
      "      dtype='object')\n"
     ]
    }
   ],
   "source": [
    "print(df.columns)"
   ]
  },
  {
   "cell_type": "code",
   "execution_count": null,
   "id": "2c9d20ec",
   "metadata": {},
   "outputs": [],
   "source": [
    "sia = SentimentIntensityAnalyzer()\n",
    "\n",
    "analyze_data = []\n",
    "\n",
    "analyze_data.append(['source','author','date', 'title', 'description','content','sentiment'])\n",
    "for i in range(len(df)):\n",
    "    url = df['url'][i]\n",
    "    author = df['author'][i]\n",
    "    title = df['title'][i]\n",
    "    description = df['description'][i]\n",
    "    date = df['publishedAt'][i]\n",
    "    content = df['content'][i]\n",
    "    if content is None:\n",
    "        content = ''\n",
    "    \n",
    "    text = title + ' ' + content\n",
    "    sentiment = sia.polarity_scores(text)\n",
    "    \n",
    "    analyze_data.append([url, author, date, title, description, content, sentiment['compound']])\n",
    "\n",
    "df_sentiment = pd.DataFrame(analyze_data[1:], columns=analyze_data[0])\n",
    "\n",
    "# Convert 'date' to datetime and 'sentiment' to float\n",
    "df_sentiment['date'] = pd.to_datetime(df_sentiment['date'])\n",
    "df_sentiment['sentiment'] = df_sentiment['sentiment'].astype(float)\n",
    "\n",
    "\n",
    "# Group by date (remove time) and calculate average sentiment per day\n",
    "df_sentiment['date_only'] = df_sentiment['date'].dt.date\n",
    "daily_sentiment = df_sentiment.groupby('date_only')['sentiment'].mean().reset_index()\n",
    "\n"
   ]
  },
  {
   "cell_type": "code",
   "execution_count": null,
   "id": "abc8741c",
   "metadata": {},
   "outputs": [],
   "source": [
    "import pandas as pd\n",
    "import os\n",
    "\n",
    "excel_path = \"crude_oil_sentiment_score_.xlsx\"  # Your Excel file path\n",
    "\n",
    "# Convert analyze_data to DataFrame (skip header row for data)\n",
    "columns = ['source', 'author', 'date', 'title', 'description', 'content', 'sentiment']\n",
    "new_df = pd.DataFrame(analyze_data[1:], columns=analyze_data[0])\n",
    "\n",
    "if os.path.exists(excel_path):\n",
    "    # Read existing data\n",
    "    old_df = pd.read_excel(excel_path)\n",
    "    # Concatenate and drop duplicates (optional, based on 'date' and 'title')\n",
    "    combined_df = pd.concat([old_df, new_df], ignore_index=True)\n",
    "    combined_df = combined_df.drop_duplicates(subset=['date', 'title'])\n",
    "else:\n",
    "    combined_df = new_df\n",
    "\n",
    "# Save back to Excel\n",
    "combined_df.to_excel(excel_path, index=False)"
   ]
  }
 ],
 "metadata": {
  "kernelspec": {
   "display_name": ".venv",
   "language": "python",
   "name": "python3"
  },
  "language_info": {
   "codemirror_mode": {
    "name": "ipython",
    "version": 3
   },
   "file_extension": ".py",
   "mimetype": "text/x-python",
   "name": "python",
   "nbconvert_exporter": "python",
   "pygments_lexer": "ipython3",
   "version": "3.12.10"
  }
 },
 "nbformat": 4,
 "nbformat_minor": 5
}
