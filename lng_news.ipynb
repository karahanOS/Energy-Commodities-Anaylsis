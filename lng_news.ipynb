{
 "cells": [
  {
   "cell_type": "code",
   "execution_count": 12,
   "id": "4d432925",
   "metadata": {},
   "outputs": [
    {
     "name": "stderr",
     "output_type": "stream",
     "text": [
      "[nltk_data] Downloading package vader_lexicon to\n",
      "[nltk_data]     C:\\Users\\karahan.cetinkaya\\AppData\\Roaming\\nltk_data..\n",
      "[nltk_data]     .\n",
      "[nltk_data]   Package vader_lexicon is already up-to-date!\n"
     ]
    }
   ],
   "source": [
    "from newsapi import NewsApiClient\n",
    "\n",
    "\n",
    "import nltk\n",
    "nltk.download('vader_lexicon')\n",
    "from nltk.sentiment.vader import SentimentIntensityAnalyzer\n",
    "\n",
    "from dotenv import load_dotenv\n",
    "import pandas as pd\n",
    "import os\n",
    "\n",
    "import datetime as dt\n",
    "from dateutil.relativedelta import relativedelta\n",
    "\n",
    "import plotly.express as px\n",
    "import plotly.graph_objects as go\n",
    "\n",
    "# The correct way to import newsapi-python is:\n"
   ]
  },
  {
   "cell_type": "code",
   "execution_count": 15,
   "id": "70a9513a",
   "metadata": {},
   "outputs": [],
   "source": [
    "query = 'LNG'\n",
    "\n",
    "# Step 1: Get today's date as string\n",
    "today_str = dt.datetime.now().strftime('%Y-%m-%d')\n",
    "\n",
    "# Step 2: Convert string to datetime object\n",
    "today_dt = dt.datetime.strptime(today_str, '%Y-%m-%d')\n",
    "\n",
    "# Step 3: Subtract one month\n",
    "previous_day = today_dt - relativedelta(days=30)\n",
    "\n",
    "# Step 4: Convert back to string if needed\n",
    "previous_day_str = previous_day.strftime('%Y-%m-%d')"
   ]
  },
  {
   "cell_type": "code",
   "execution_count": 14,
   "id": "c1afe8b1",
   "metadata": {},
   "outputs": [
    {
     "ename": "NewsAPIException",
     "evalue": "{'status': 'error', 'code': 'parameterInvalid', 'message': 'You are trying to request results too far in the past. Your plan permits you to request articles as far back as 2025-08-23, but you have requested 2025-01-30. You may need to upgrade to a paid plan.'}",
     "output_type": "error",
     "traceback": [
      "\u001b[31m---------------------------------------------------------------------------\u001b[39m",
      "\u001b[31mNewsAPIException\u001b[39m                          Traceback (most recent call last)",
      "\u001b[36mCell\u001b[39m\u001b[36m \u001b[39m\u001b[32mIn[14]\u001b[39m\u001b[32m, line 7\u001b[39m\n\u001b[32m      3\u001b[39m api_key = os.getenv(\u001b[33m'\u001b[39m\u001b[33mAPI_KEY\u001b[39m\u001b[33m'\u001b[39m)\n\u001b[32m      5\u001b[39m newsapi = NewsApiClient(api_key)\n\u001b[32m----> \u001b[39m\u001b[32m7\u001b[39m all_articles = \u001b[43mnewsapi\u001b[49m\u001b[43m.\u001b[49m\u001b[43mget_everything\u001b[49m\u001b[43m(\u001b[49m\u001b[43mq\u001b[49m\u001b[43m=\u001b[49m\u001b[43mquery\u001b[49m\u001b[43m,\u001b[49m\n\u001b[32m      8\u001b[39m \u001b[43m                                       \u001b[49m\u001b[43mfrom_param\u001b[49m\u001b[43m=\u001b[49m\u001b[43mprevious_day_str\u001b[49m\u001b[43m,\u001b[49m\n\u001b[32m      9\u001b[39m \u001b[43m                                       \u001b[49m\u001b[43mto\u001b[49m\u001b[43m=\u001b[49m\u001b[43mtoday_str\u001b[49m\u001b[43m,\u001b[49m\n\u001b[32m     10\u001b[39m \u001b[43m                                       \u001b[49m\u001b[43msources\u001b[49m\u001b[43m=\u001b[49m\u001b[33;43m'\u001b[39;49m\u001b[33;43myfinance,google-news\u001b[39;49m\u001b[33;43m'\u001b[39;49m\u001b[43m,\u001b[49m\n\u001b[32m     11\u001b[39m \u001b[43m                                       \u001b[49m\u001b[43mdomains\u001b[49m\u001b[43m=\u001b[49m\u001b[33;43m'\u001b[39;49m\u001b[33;43mfinance.yahoo.com,news.google.com,yahoo.com\u001b[39;49m\u001b[33;43m'\u001b[39;49m\u001b[43m,\u001b[49m\n\u001b[32m     12\u001b[39m \u001b[43m                                       \u001b[49m\u001b[43mexclude_domains\u001b[49m\u001b[43m=\u001b[49m\u001b[33;43m'\u001b[39;49m\u001b[33;43mnews.google.com\u001b[39;49m\u001b[33;43m'\u001b[39;49m\u001b[43m,\u001b[49m\n\u001b[32m     13\u001b[39m \u001b[43m                                       \u001b[49m\u001b[43mlanguage\u001b[49m\u001b[43m=\u001b[49m\u001b[33;43m'\u001b[39;49m\u001b[33;43men\u001b[39;49m\u001b[33;43m'\u001b[39;49m\u001b[43m,\u001b[49m\n\u001b[32m     14\u001b[39m \u001b[43m                                       \u001b[49m\u001b[43msort_by\u001b[49m\u001b[43m=\u001b[49m\u001b[33;43m'\u001b[39;49m\u001b[33;43mrelevancy\u001b[39;49m\u001b[33;43m'\u001b[39;49m\u001b[43m,\u001b[49m\n\u001b[32m     15\u001b[39m \u001b[43m                                       \u001b[49m\u001b[43mpage_size\u001b[49m\u001b[43m=\u001b[49m\u001b[32;43m100\u001b[39;49m\u001b[43m)\u001b[49m\n\u001b[32m     16\u001b[39m articles = all_articles[\u001b[33m'\u001b[39m\u001b[33marticles\u001b[39m\u001b[33m'\u001b[39m]\n\u001b[32m     17\u001b[39m df = pd.DataFrame(articles)\n",
      "\u001b[36mFile \u001b[39m\u001b[32mc:\\Users\\karahan.cetinkaya\\PowerPlantApp\\.venv\\Lib\\site-packages\\newsapi\\newsapi_client.py:334\u001b[39m, in \u001b[36mNewsApiClient.get_everything\u001b[39m\u001b[34m(self, q, qintitle, sources, domains, exclude_domains, from_param, to, language, sort_by, page, page_size)\u001b[39m\n\u001b[32m    332\u001b[39m \u001b[38;5;66;03m# Check Status of Request\u001b[39;00m\n\u001b[32m    333\u001b[39m \u001b[38;5;28;01mif\u001b[39;00m r.status_code != requests.codes.ok:\n\u001b[32m--> \u001b[39m\u001b[32m334\u001b[39m     \u001b[38;5;28;01mraise\u001b[39;00m NewsAPIException(r.json())\n\u001b[32m    336\u001b[39m \u001b[38;5;28;01mreturn\u001b[39;00m r.json()\n",
      "\u001b[31mNewsAPIException\u001b[39m: {'status': 'error', 'code': 'parameterInvalid', 'message': 'You are trying to request results too far in the past. Your plan permits you to request articles as far back as 2025-08-23, but you have requested 2025-01-30. You may need to upgrade to a paid plan.'}"
     ]
    }
   ],
   "source": [
    "load_dotenv()\n",
    "\n",
    "api_key = os.getenv('API_KEY')\n",
    "\n",
    "newsapi = NewsApiClient(api_key)\n",
    "\n",
    "all_articles = newsapi.get_everything(q=query,\n",
    "                                       from_param=previous_day_str,\n",
    "                                       to=today_str,\n",
    "                                       sources='yfinance,google-news',\n",
    "                                       domains='finance.yahoo.com,news.google.com,yahoo.com',\n",
    "                                       exclude_domains='news.google.com',\n",
    "                                       language='en',\n",
    "                                       sort_by='relevancy',\n",
    "                                       page_size=100)\n",
    "articles = all_articles['articles']\n",
    "df = pd.DataFrame(articles)"
   ]
  },
  {
   "cell_type": "code",
   "execution_count": null,
   "id": "ed96d739",
   "metadata": {},
   "outputs": [
    {
     "name": "stdout",
     "output_type": "stream",
     "text": [
      "                                         source  \\\n",
      "0   {'id': None, 'name': 'Yahoo Entertainment'}   \n",
      "1   {'id': None, 'name': 'Yahoo Entertainment'}   \n",
      "2   {'id': None, 'name': 'Yahoo Entertainment'}   \n",
      "3   {'id': None, 'name': 'Yahoo Entertainment'}   \n",
      "4   {'id': None, 'name': 'Yahoo Entertainment'}   \n",
      "..                                          ...   \n",
      "67  {'id': None, 'name': 'Yahoo Entertainment'}   \n",
      "68  {'id': None, 'name': 'Yahoo Entertainment'}   \n",
      "69  {'id': None, 'name': 'Yahoo Entertainment'}   \n",
      "70  {'id': None, 'name': 'Yahoo Entertainment'}   \n",
      "71  {'id': None, 'name': 'Yahoo Entertainment'}   \n",
      "\n",
      "                             author  \\\n",
      "0                           Reuters   \n",
      "1   Maha El Dahan and Muayad Hameed   \n",
      "2                 Nilanjan Banerjee   \n",
      "3                        Jewel Saha   \n",
      "4               Editor OilPrice.com   \n",
      "..                              ...   \n",
      "67                   GuruFocus News   \n",
      "68    Manya Saini and Pritam Biswas   \n",
      "69                          Reuters   \n",
      "70              Editor OilPrice.com   \n",
      "71                   Bloomberg News   \n",
      "\n",
      "                                                title  \\\n",
      "0   India to raise LNG import capacity 27% to 66.7...   \n",
      "1   Iraq fails to win US approval to import Turkme...   \n",
      "2   3 Oil Pipeline Stocks With Strong Potential Fr...   \n",
      "3   OXY vs. FANG: Which Oil and Energy Stock Has M...   \n",
      "4              Bangladesh Becomes LNG’s Hottest Story   \n",
      "..                                                ...   \n",
      "67  CBL International Ltd (BANL) (Half Year 2025) ...   \n",
      "68  US IPO market reopens for fall as Trump tariff...   \n",
      "69  Factbox-US and Europe do billions in trade wit...   \n",
      "70  Why South Korea’s Pledge to Buy More US Oil Ma...   \n",
      "71  Cheap Chinese Coal is Making it Difficult to R...   \n",
      "\n",
      "                                          description  \\\n",
      "0   NEW DELHI (Reuters) -India is raising its liqu...   \n",
      "1   Iraq's attempt to ease its chronic power short...   \n",
      "2   Midstream players will secure additional cashf...   \n",
      "3   Occidental and Diamondback are two strong oper...   \n",
      "4   Bangladesh has become Asia’s most active spot ...   \n",
      "..                                                ...   \n",
      "67  Despite a revenue dip, CBL International Ltd (...   \n",
      "68  (Reuters) -A slew of companies across sectors,...   \n",
      "69  More than three years after Russia launched it...   \n",
      "70  Long-term contracts and ownership ties with Mi...   \n",
      "71  President Xi Jinping has pledged that coal use...   \n",
      "\n",
      "                                                  url  \\\n",
      "0   https://sg.finance.yahoo.com/news/india-raise-...   \n",
      "1   https://ca.finance.yahoo.com/news/iraq-fails-w...   \n",
      "2   https://finance.yahoo.com/news/3-oil-pipeline-...   \n",
      "3   https://finance.yahoo.com/news/oxy-vs-fang-oil...   \n",
      "4   https://finance.yahoo.com/news/bangladesh-beco...   \n",
      "..                                                ...   \n",
      "67  https://finance.yahoo.com/news/cbl-internation...   \n",
      "68  https://finance.yahoo.com/news/us-ipo-market-r...   \n",
      "69  https://www.yahoo.com/news/articles/factbox-us...   \n",
      "70  https://finance.yahoo.com/news/why-south-korea...   \n",
      "71  https://finance.yahoo.com/news/cheap-chinese-c...   \n",
      "\n",
      "                                           urlToImage           publishedAt  \\\n",
      "0   https://media.zenfs.com/en/reuters.com/05c3e27...  2025-09-02T07:00:43Z   \n",
      "1   https://media.zenfs.com/en/reuters.com/f938ca2...  2025-09-19T07:04:32Z   \n",
      "2   https://media.zenfs.com/en/zacks.com/5102c7cc5...  2025-09-05T14:24:00Z   \n",
      "3   https://media.zenfs.com/en/zacks.com/48a0b5f70...  2025-08-29T15:47:00Z   \n",
      "4   https://media.zenfs.com/en/oilprice.com/7cf325...  2025-09-04T20:00:00Z   \n",
      "..                                                ...                   ...   \n",
      "67  https://s.yimg.com/cv/apiv2/cv/apiv2/social/im...  2025-09-18T11:01:26Z   \n",
      "68  https://media.zenfs.com/en/reuters-finance.com...  2025-09-02T14:11:38Z   \n",
      "69  https://media.zenfs.com/en/reuters-finance.com...  2025-09-15T08:52:36Z   \n",
      "70  https://media.zenfs.com/en/oilprice.com/13ef97...  2025-08-23T23:00:00Z   \n",
      "71  https://s.yimg.com/ny/api/res/1.2/TYZWGw96nPyj...  2025-09-15T23:37:08Z   \n",
      "\n",
      "                                              content  \n",
      "0   NEW DELHI (Reuters) -India is raising its liqu...  \n",
      "1   By Maha El Dahan and Muayad Hameed\\r\\nDUBAI/BA...  \n",
      "2   The crude pricing environment is likely to rem...  \n",
      "3   The companies operating in the Zacks Oil-Energ...  \n",
      "4   Bangladesh has become Asias most active buyer ...  \n",
      "..                                                ...  \n",
      "67  This article first appeared on GuruFocus.\\r\\n<...  \n",
      "68  By Manya Saini and Pritam Biswas\\r\\n(Reuters) ...  \n",
      "69  (Reuters) -U.S. President Donald Trump said on...  \n",
      "70  South Korea, one of Americas top-10 trading pa...  \n",
      "71  (Bloomberg) -- Chinese coal prices are on cour...  \n",
      "\n",
      "[72 rows x 8 columns]\n"
     ]
    }
   ],
   "source": [
    "print(df)"
   ]
  },
  {
   "cell_type": "code",
   "execution_count": null,
   "id": "40a26e3d",
   "metadata": {},
   "outputs": [
    {
     "name": "stdout",
     "output_type": "stream",
     "text": [
      "Index(['source', 'author', 'title', 'description', 'url', 'urlToImage',\n",
      "       'publishedAt', 'content'],\n",
      "      dtype='object')\n"
     ]
    }
   ],
   "source": [
    "print(df.columns)"
   ]
  },
  {
   "cell_type": "code",
   "execution_count": null,
   "id": "2c9d20ec",
   "metadata": {},
   "outputs": [],
   "source": [
    "sia = SentimentIntensityAnalyzer()\n",
    "\n",
    "analyze_data = []\n",
    "\n",
    "analyze_data.append(['source','author','date', 'title', 'description','content','sentiment'])\n",
    "for i in range(len(df)):\n",
    "    url = df['url'][i]\n",
    "    author = df['author'][i]\n",
    "    title = df['title'][i]\n",
    "    description = df['description'][i]\n",
    "    date = df['publishedAt'][i]\n",
    "    content = df['content'][i]\n",
    "    if content is None:\n",
    "        content = ''\n",
    "    \n",
    "    text = title + ' ' + content\n",
    "    sentiment = sia.polarity_scores(text)\n",
    "    \n",
    "    analyze_data.append([url, author, date, title, description, content, sentiment['compound']])\n",
    "\n",
    "df_sentiment = pd.DataFrame(analyze_data[1:], columns=analyze_data[0])\n",
    "\n",
    "# Convert 'date' to datetime and 'sentiment' to float\n",
    "df_sentiment['date'] = pd.to_datetime(df_sentiment['date'])\n",
    "df_sentiment['sentiment'] = df_sentiment['sentiment'].astype(float)\n",
    "\n",
    "\n",
    "# Group by date (remove time) and calculate average sentiment per day\n",
    "df_sentiment['date_only'] = df_sentiment['date'].dt.date\n",
    "daily_sentiment = df_sentiment.groupby('date_only')['sentiment'].mean().reset_index()\n",
    "\n"
   ]
  },
  {
   "cell_type": "code",
   "execution_count": null,
   "id": "abc8741c",
   "metadata": {},
   "outputs": [],
   "source": [
    "import pandas as pd\n",
    "import os\n",
    "\n",
    "excel_path = \"lng_sentiment_score_.xlsx\"  # Your Excel file path\n",
    "\n",
    "# Convert analyze_data to DataFrame (skip header row for data)\n",
    "columns = ['source', 'author', 'date', 'title', 'description', 'content', 'sentiment']\n",
    "new_df = pd.DataFrame(analyze_data[1:], columns=analyze_data[0])\n",
    "\n",
    "if os.path.exists(excel_path):\n",
    "    # Read existing data\n",
    "    old_df = pd.read_excel(excel_path)\n",
    "    # Concatenate and drop duplicates (optional, based on 'date' and 'title')\n",
    "    combined_df = pd.concat([old_df, new_df], ignore_index=True)\n",
    "    combined_df = combined_df.drop_duplicates(subset=['date', 'title'])\n",
    "else:\n",
    "    combined_df = new_df\n",
    "\n",
    "# Save back to Excel\n",
    "combined_df.to_excel(excel_path, index=False)"
   ]
  }
 ],
 "metadata": {
  "kernelspec": {
   "display_name": ".venv",
   "language": "python",
   "name": "python3"
  },
  "language_info": {
   "codemirror_mode": {
    "name": "ipython",
    "version": 3
   },
   "file_extension": ".py",
   "mimetype": "text/x-python",
   "name": "python",
   "nbconvert_exporter": "python",
   "pygments_lexer": "ipython3",
   "version": "3.12.10"
  }
 },
 "nbformat": 4,
 "nbformat_minor": 5
}
